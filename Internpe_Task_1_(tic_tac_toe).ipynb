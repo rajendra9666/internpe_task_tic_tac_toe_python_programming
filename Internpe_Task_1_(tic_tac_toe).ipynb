{
  "nbformat": 4,
  "nbformat_minor": 0,
  "metadata": {
    "colab": {
      "provenance": []
    },
    "kernelspec": {
      "name": "python3",
      "display_name": "Python 3"
    },
    "language_info": {
      "name": "python"
    }
  },
  "cells": [
    {
      "cell_type": "code",
      "execution_count": null,
      "metadata": {
        "id": "wxiq1RgVYX8n"
      },
      "outputs": [],
      "source": []
    },
    {
      "cell_type": "markdown",
      "source": [
        "# TIC TAC TOE in python program"
      ],
      "metadata": {
        "id": "q1VJFx-qkZMI"
      }
    },
    {
      "cell_type": "code",
      "source": [
        "# Tic Tac Toe\n",
        "\n",
        "# Function to print the Tic Tac Toe board\n",
        "def print_board(board):\n",
        "    print(board[0] + '|' + board[1] + '|' + board[2])\n",
        "    print('-+-+-')\n",
        "    print(board[3] + '|' + board[4] + '|' + board[5])\n",
        "    print('-+-+-')\n",
        "    print(board[6] + '|' + board[7] + '|' + board[8])\n",
        "\n",
        "# Function to check if a player has won\n",
        "def check_win(board, player):\n",
        "    # Check rows\n",
        "    for i in range(0, 9, 3):\n",
        "        if board[i] == board[i+1] == board[i+2] == player:\n",
        "            return True\n",
        "\n",
        "    # Check columns\n",
        "    for i in range(3):\n",
        "        if board[i] == board[i+3] == board[i+6] == player:\n",
        "            return True\n",
        "\n",
        "    # Check diagonals\n",
        "    if board[0] == board[4] == board[8] == player:\n",
        "        return True\n",
        "    if board[2] == board[4] == board[6] == player:\n",
        "        return True\n",
        "\n",
        "    return False\n",
        "\n",
        "# Function to play the game\n",
        "def play_game():\n",
        "    board = [' ']*9\n",
        "    current_player = 'X'\n",
        "\n",
        "    while True:\n",
        "        print_board(board)\n",
        "        print(\"Player\", current_player, \"turn:\")\n",
        "        position = int(input(\"Enter a position (1-9): \")) - 1\n",
        "\n",
        "        if board[position] == ' ':\n",
        "            board[position] = current_player\n",
        "        else:\n",
        "            print(\"Invalid move. Try again.\")\n",
        "            continue\n",
        "\n",
        "        if check_win(board, current_player):\n",
        "            print_board(board)\n",
        "            print(\"Player\", current_player, \"wins!\")\n",
        "            break\n",
        "\n",
        "        if ' ' not in board:\n",
        "            print_board(board)\n",
        "            print(\"It's a tie!\")\n",
        "            break\n",
        "\n",
        "        # Switch players\n",
        "        if current_player == 'X':\n",
        "            current_player = 'O'\n",
        "        else:\n",
        "            current_player = 'X'\n",
        "\n",
        "# Start the game\n",
        "play_game()\n"
      ],
      "metadata": {
        "id": "T4YkLkaVhDTA",
        "colab": {
          "base_uri": "https://localhost:8080/"
        },
        "outputId": "4ffa5f0f-8bdf-4070-c980-1a7d38784544"
      },
      "execution_count": 1,
      "outputs": [
        {
          "output_type": "stream",
          "name": "stdout",
          "text": [
            " | | \n",
            "-+-+-\n",
            " | | \n",
            "-+-+-\n",
            " | | \n",
            "Player X turn:\n",
            "Enter a position (1-9): 1\n",
            "X| | \n",
            "-+-+-\n",
            " | | \n",
            "-+-+-\n",
            " | | \n",
            "Player O turn:\n",
            "Enter a position (1-9): 2\n",
            "X|O| \n",
            "-+-+-\n",
            " | | \n",
            "-+-+-\n",
            " | | \n",
            "Player X turn:\n",
            "Enter a position (1-9): 3\n",
            "X|O|X\n",
            "-+-+-\n",
            " | | \n",
            "-+-+-\n",
            " | | \n",
            "Player O turn:\n",
            "Enter a position (1-9): 4\n",
            "X|O|X\n",
            "-+-+-\n",
            "O| | \n",
            "-+-+-\n",
            " | | \n",
            "Player X turn:\n",
            "Enter a position (1-9): 5\n",
            "X|O|X\n",
            "-+-+-\n",
            "O|X| \n",
            "-+-+-\n",
            " | | \n",
            "Player O turn:\n",
            "Enter a position (1-9): 6\n",
            "X|O|X\n",
            "-+-+-\n",
            "O|X|O\n",
            "-+-+-\n",
            " | | \n",
            "Player X turn:\n",
            "Enter a position (1-9): 7\n",
            "X|O|X\n",
            "-+-+-\n",
            "O|X|O\n",
            "-+-+-\n",
            "X| | \n",
            "Player X wins!\n"
          ]
        }
      ]
    }
  ]
}